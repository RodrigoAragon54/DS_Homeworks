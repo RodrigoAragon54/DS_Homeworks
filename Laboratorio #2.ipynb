{
 "cells": [
  {
   "cell_type": "markdown",
   "id": "61a753b9",
   "metadata": {
    "scrolled": true
   },
   "source": [
    "# Ejercicio 1"
   ]
  },
  {
   "cell_type": "code",
   "execution_count": 1,
   "id": "012b21ac",
   "metadata": {},
   "outputs": [
    {
     "name": "stdout",
     "output_type": "stream",
     "text": [
      "Ingrese el tiempo en segundos: 5825\n",
      "El tiempo es: 1 hora/s 37 minutos y 5 segundos\n"
     ]
    }
   ],
   "source": [
    "x = int(input(\"Ingrese el tiempo en segundos: \"))\n",
    "\n",
    "horas = x // 3600\n",
    "minutos = (x % 3600) // 60\n",
    "seg = (x % 3600) % 60\n",
    "\n",
    "print(\"El tiempo es:\",horas,\"hora/s\", minutos,\"minutos y\",seg,\"segundos\")"
   ]
  },
  {
   "cell_type": "markdown",
   "id": "1909e472",
   "metadata": {},
   "source": [
    "# Ejercicio 2"
   ]
  },
  {
   "cell_type": "code",
   "execution_count": null,
   "id": "d3387c5c",
   "metadata": {},
   "outputs": [],
   "source": [
    "numero = int(input(\"Ingrese un numero de entre 1-20: \"))\n",
    "\n",
    "def ejercicio_2():\n",
    "    \n",
    "    import random\n",
    "    ast = \"*\"\n",
    "    \n",
    "    for b in range(numero+1):\n",
    "        patron1 = ast * b\n",
    "        print(patron1)\n",
    "        \n",
    "    print()\n",
    "        \n",
    "    for c in range(numero+1):\n",
    "        patron2 = ast * (numero-c)\n",
    "        print(patron2)\n",
    "        \n",
    "    print()\n",
    "    \n",
    "    for w in range(1,numero+1):\n",
    "        espi=\"\"\n",
    "        espd=\"\"\n",
    "        patron3=ast*w\n",
    "        \n",
    "        while (len(espi) + len(espd) + len(patron3)) != numero:\n",
    "            espi= \" \"*random.randint(0,numero-w)\n",
    "            espd= \" \"*random.randint(0,numero-w)\n",
    "        print(espi+patron3+espd) \n",
    "        \n",
    "    print() \n",
    "    \n",
    "    for p in range(numero,0,-1):\n",
    "        espi2=\"\"\n",
    "        espd2=\"\"\n",
    "        patron4=ast*p\n",
    "        \n",
    "        while (len(espi2) + len(espd2) + len(patron4)) != numero:\n",
    "            espi2= \" \"*random.randint(0,numero)\n",
    "            #print(\"espacio izq:\", len(espi2))\n",
    "            espd2= \" \"*random.randint(0,numero)\n",
    "            #print(\"espacio der:\", len(espd2))\n",
    "        print(espi2+patron4+espd2)\n",
    "        \n",
    "ejercicio_2()\n",
    "    "
   ]
  },
  {
   "cell_type": "markdown",
   "id": "530136dc",
   "metadata": {},
   "source": [
    "# Ejercicio 3"
   ]
  },
  {
   "cell_type": "code",
   "execution_count": 42,
   "id": "71498e0c",
   "metadata": {
    "scrolled": true
   },
   "outputs": [
    {
     "name": "stdout",
     "output_type": "stream",
     "text": [
      "Introduce el dia de tu nacimiento (1-31): 04\n",
      "Introduce el mes de tu nacimiento (1-12): 1\n",
      "Introduce el año de tu nacimiento: 1996\n",
      "Su edad es:  27 años,  1 meses, y 25 días.\n"
     ]
    }
   ],
   "source": [
    "import datetime\n",
    "from dateutil.relativedelta import relativedelta\n",
    "\n",
    "dia = int(input(\"Introduce el dia de tu nacimiento (1-31): \"))\n",
    "mes = int(input(\"Introduce el mes de tu nacimiento (1-12): \"))\n",
    "año = int(input(\"Introduce el año de tu nacimiento: \"))\n",
    "\n",
    "fecha_nacimiento = datetime.date(año,mes,dia)\n",
    "fecha_hoy = datetime.date.today()\n",
    "        \n",
    "edad = relativedelta(fecha_hoy, fecha_nacimiento)\n",
    "print(\"Su edad es: \", edad.years, \"años, \", edad.months, \"meses, y\", edad.days, \"días.\")\n",
    "\n"
   ]
  },
  {
   "cell_type": "markdown",
   "id": "43e3e750",
   "metadata": {},
   "source": [
    "# Ejercicio 4"
   ]
  },
  {
   "cell_type": "code",
   "execution_count": 58,
   "id": "173b4662",
   "metadata": {},
   "outputs": [
    {
     "name": "stdout",
     "output_type": "stream",
     "text": [
      "Introduzca el texto a concatenar: Hola\n",
      "Desea seguir agregando elementos? (S/N): S\n",
      "Introduzca el texto a concatenar: 15\n",
      "Desea seguir agregando elementos? (S/N): S\n",
      "Introduzca el texto a concatenar: Hola\n",
      "Desea seguir agregando elementos? (S/N): S\n",
      "Introduzca el texto a concatenar: 25\n",
      "Desea seguir agregando elementos? (S/N): N\n",
      "Hola15Hola25\n"
     ]
    }
   ],
   "source": [
    "tuplita = ()\n",
    "x = list(tuplita)\n",
    "respuesta = \"Y\"\n",
    "i=0\n",
    "\n",
    "while respuesta != \"N\":\n",
    "    item = str(input(\"Introduzca el texto a concatenar: \"))\n",
    "    x.append(item)\n",
    "    respuesta = str(input(\"Desea seguir agregando elementos? (S/N): \"))\n",
    "\n",
    "tuplita = tuple(x)\n",
    "z = \"\"\n",
    "\n",
    "for y in range(len(tuplita)):\n",
    "    z = z + tuplita[y]\n",
    "print(z)\n",
    "         "
   ]
  },
  {
   "cell_type": "markdown",
   "id": "6c7a7858",
   "metadata": {},
   "source": [
    "# Ejercicio 5"
   ]
  },
  {
   "cell_type": "code",
   "execution_count": 6,
   "id": "688845f5",
   "metadata": {},
   "outputs": [
    {
     "name": "stdout",
     "output_type": "stream",
     "text": [
      "Ingrese el número de tuplas que desea ingresar: 3\n",
      "Tupla #1:\n",
      "Ingrese el número de elementos en la tupla: 2\n",
      "Ingrese el elemento #1: \n",
      "Ingrese el elemento #2: \n",
      "Tupla #2:\n",
      "Ingrese el número de elementos en la tupla: 2\n",
      "Ingrese el elemento #1: a\n",
      "Ingrese el elemento #2: b\n",
      "Tupla #3:\n",
      "Ingrese el número de elementos en la tupla: 2\n",
      "Ingrese el elemento #1: 1\n",
      "Ingrese el elemento #2: 2\n",
      "Lista de tuplas ingresadas:\n",
      "[('a', 'b'), ('1', '2')]\n"
     ]
    }
   ],
   "source": [
    "num_tuplas = int(input(\"Ingrese el número de tuplas que desea ingresar: \"))\n",
    "\n",
    "lista_tuplas = []\n",
    "\n",
    "for i in range(num_tuplas):\n",
    "    print(f\"Tupla #{i+1}:\")\n",
    "    elementos_tupla = int(input(\"Ingrese el número de elementos en la tupla: \"))\n",
    "    elementos = []\n",
    "   \n",
    "    for j in range(elementos_tupla):\n",
    "        elemento = input(f\"Ingrese el elemento #{j+1}: \")\n",
    "        elementos.append(elemento)\n",
    "    tupla = tuple(elementos)\n",
    "    \n",
    "    if any(elementos): # Verifica si algún elemento no es vacío\n",
    "        lista_tuplas.append(tupla)\n",
    "\n",
    "print(\"Lista de tuplas ingresadas:\")\n",
    "print(lista_tuplas)\n"
   ]
  },
  {
   "cell_type": "code",
   "execution_count": 2,
   "id": "961476a8",
   "metadata": {},
   "outputs": [
    {
     "name": "stdout",
     "output_type": "stream",
     "text": [
      "[('X',), ('a', 'b'), ('a', 'b', 'c'), 'd']\n"
     ]
    }
   ],
   "source": [
    "def ejercicio6(x):\n",
    "    return [tupla for tupla in x if tupla]\n",
    "\n",
    "lista = [(), (), (\"X\",), (\"a\",\"b\"), ('a', 'b', 'c'), ('d')]\n",
    "lista_sin_vacios = ejercicio6(lista)\n",
    "print(lista_sin_vacios)"
   ]
  },
  {
   "cell_type": "markdown",
   "id": "405068da",
   "metadata": {},
   "source": [
    "# Ejercicio 6"
   ]
  },
  {
   "cell_type": "code",
   "execution_count": null,
   "id": "2ff019dd",
   "metadata": {},
   "outputs": [],
   "source": [
    "facturas = {}\n",
    "\n",
    "total_cobrado = 0\n",
    "\n",
    "while True:\n",
    "    print()\n",
    "    print(\"¿Qué acción desea realizar?\")\n",
    "    print(\"1. Añadir nueva factura\")\n",
    "    print(\"2. Pagar factura existente\")\n",
    "    print(\"3. Terminar programa\")\n",
    "    opcion = input(\"Ingrese el número de la opción: \")\n",
    "\n",
    "    if opcion == \"1\":\n",
    "        numero_factura = input(\"Ingrese el número de factura (4 dígitos): \")\n",
    "        while len(numero_factura) != 4:\n",
    "            print(\"El número de factura debe tener 4 dígitos.\")\n",
    "            numero_factura = input(\"Ingrese el número de factura (4 dígitos): \")\n",
    "        \n",
    "        costo_factura = float(input(\"Ingrese el costo de la factura (en Q): \"))\n",
    "        facturas[numero_factura] = costo_factura\n",
    "        print(\"Factura añadida correctamente.\")\n",
    "        print(\"Facturas pendientes de cobro:\", facturas)\n",
    "    \n",
    "    elif opcion == \"2\":\n",
    "        numero_factura = input(\"Ingrese el número de factura a pagar: \")\n",
    "        if numero_factura in facturas:\n",
    "            total_cobrado += facturas[numero_factura]\n",
    "            del facturas[numero_factura]\n",
    "            print(\"Factura pagada correctamente.\")\n",
    "            print(\"Facturas pendientes de cobro:\", facturas)\n",
    "        else:\n",
    "            print(\"La factura ingresada no existe.\")\n",
    "    \n",
    "    elif opcion == \"3\":\n",
    "        print(\"Programa terminado.\")\n",
    "        break\n",
    "    \n",
    "    else:\n",
    "        print(\"Opción inválida.\")\n",
    "\n",
    "    pendiente_cobro = sum(facturas.values())\n",
    "    print(\"Cantidad cobrada hasta el momento: Q\", total_cobrado)\n",
    "    print(\"Cantidad pendiente de cobro: Q\", pendiente_cobro)"
   ]
  },
  {
   "cell_type": "markdown",
   "id": "e3a478e0",
   "metadata": {},
   "source": [
    "# Ejercicio 7"
   ]
  },
  {
   "cell_type": "code",
   "execution_count": 9,
   "id": "bcfa68fc",
   "metadata": {},
   "outputs": [
    {
     "name": "stdout",
     "output_type": "stream",
     "text": [
      "Baraja: {'C11', 'P09', 'C04', 'C09', 'E07', 'C01', 'T10', 'E01', 'E10', 'E12', 'E03', 'C10', 'T02', 'T13', 'E13', 'P03', 'E02', 'T03', 'P05', 'E04', 'C05', 'P04', 'C06', 'P11', 'E08', 'E09', 'P01', 'C07', 'T09', 'E05', 'P10', 'T05', 'P07', 'T12', 'E06', 'P12', 'T01', 'P02', 'C08', 'T06', 'T11', 'T07', 'C13', 'P06', 'T08', 'C03', 'C02', 'E11', 'T04', 'P13', 'C12', 'P08'}\n",
      "Conjunto A: {'C11', 'P09', 'C04', 'C09', 'E07', 'C01', 'E10', 'E01', 'T10', 'E12', 'C10', 'E13', 'T13', 'T02', 'P03', 'E02', 'T03', 'E04', 'C05', 'P04', 'C06', 'P11', 'E08', 'E09', 'P01', 'E05', 'C07', 'T09', 'P10', 'T05', 'P07', 'T12', 'E06', 'P12', 'T01', 'P02', 'C08', 'T06', 'T11', 'T07', 'C13', 'P06', 'T08', 'C03', 'C02', 'E11', 'T04', 'P13', 'C12', 'P08'}\n",
      "Conjunto B: {'P09', 'C04', 'E07', 'C10', 'E13', 'P03', 'C05', 'P04', 'E08', 'E09', 'E05', 'T05', 'P07', 'P12', 'T01', 'C08', 'P06', 'C02', 'T04', 'C12', 'P10'}\n",
      "Probabilidad de intersección: 0.40384615384615385\n",
      "¿Son eventos independientes?: False\n",
      "Probabilidad de unión: 0.9615384615384616\n",
      "Regla de la adición: 0.9615384615384616\n"
     ]
    }
   ],
   "source": [
    "import random\n",
    "\n",
    "def crear_baraja():\n",
    "    grupos = ['T', 'C', 'P', 'E']\n",
    "    numeros = ['01', '02', '03', '04', '05', '06', '07', '08', '09', '10', '11', '12', '13']\n",
    "    baraja = set()\n",
    "    for x in grupos:\n",
    "        for y in numeros:\n",
    "            carta = x + y\n",
    "            baraja.add(carta)\n",
    "    return baraja\n",
    "\n",
    "def crear_conjuntos(baraja):\n",
    "    tamano_A = random.randint(1, len(baraja))\n",
    "    tamano_B = random.randint(1, len(baraja))\n",
    "    A = set(random.sample(list(baraja), tamano_A))\n",
    "    B = set(random.sample(list(baraja), tamano_B))\n",
    "    return A, B\n",
    "\n",
    "def calcular_probabilidad_interseccion(A, B, baraja):\n",
    "    interseccion = A.intersection(B)\n",
    "    probabilidad = len(interseccion) / len(baraja)\n",
    "    return probabilidad\n",
    "\n",
    "def verificar_independencia(A, B, baraja):\n",
    "    probabilidad_interseccion = calcular_probabilidad_interseccion(A, B, baraja)\n",
    "    probabilidad_A = len(A) / len(baraja)\n",
    "    probabilidad_B = len(B) / len(baraja)\n",
    "    producto_probabilidades = probabilidad_A * probabilidad_B\n",
    "    if probabilidad_interseccion == producto_probabilidades:\n",
    "        return True\n",
    "    else:\n",
    "        return False\n",
    "\n",
    "baraja = crear_baraja()\n",
    "A, B = crear_conjuntos(baraja)\n",
    "probabilidad_interseccion = calcular_probabilidad_interseccion(A, B, baraja)\n",
    "independencia = verificar_independencia(A, B, baraja)\n",
    "\n",
    "print(\"Baraja:\", baraja)\n",
    "print(\"Conjunto A:\", A)\n",
    "print(\"Conjunto B:\", B)\n",
    "print(\"Probabilidad de intersección:\", probabilidad_interseccion)\n",
    "print(\"¿Son eventos independientes?:\", independencia)\n",
    "\n",
    "probabilidad_union = len(A.union(B)) / len(baraja)\n",
    "probabilidad_A = len(A) / len(baraja)\n",
    "probabilidad_B = len(B) / len(baraja)\n",
    "regla_adicion = probabilidad_A + probabilidad_B - probabilidad_interseccion\n",
    "\n",
    "print(\"Probabilidad de unión:\", probabilidad_union)\n",
    "print(\"Regla de la adición:\", regla_adicion)"
   ]
  },
  {
   "cell_type": "code",
   "execution_count": null,
   "id": "fc0467eb",
   "metadata": {},
   "outputs": [],
   "source": []
  }
 ],
 "metadata": {
  "kernelspec": {
   "display_name": "Python 3 (ipykernel)",
   "language": "python",
   "name": "python3"
  },
  "language_info": {
   "codemirror_mode": {
    "name": "ipython",
    "version": 3
   },
   "file_extension": ".py",
   "mimetype": "text/x-python",
   "name": "python",
   "nbconvert_exporter": "python",
   "pygments_lexer": "ipython3",
   "version": "3.9.13"
  }
 },
 "nbformat": 4,
 "nbformat_minor": 5
}
